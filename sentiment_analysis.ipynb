{
 "cells": [
  {
   "cell_type": "code",
   "execution_count": 41,
   "id": "4b8e68c6",
   "metadata": {},
   "outputs": [],
   "source": [
    "import pandas as pd\n",
    "import numpy as np\n",
    "import matplotlib.pyplot as plt\n",
    "import seaborn as sns\n",
    "import plotly.express as px\n",
    "from sklearn.model_selection import train_test_split"
   ]
  },
  {
   "cell_type": "code",
   "execution_count": 42,
   "id": "4ae33fe1",
   "metadata": {},
   "outputs": [],
   "source": [
    "data = pd.read_csv(\"training.1600000.processed.noemoticon.csv\", encoding='latin-1', header=None)\n",
    "data.columns = ['sentiment', 'id', 'date', 'query', 'user', 'text']\n",
    "data = data.sample(frac=1).reset_index(drop=True)"
   ]
  },
  {
   "cell_type": "code",
   "execution_count": 44,
   "id": "25f61ca8",
   "metadata": {},
   "outputs": [],
   "source": [
    "from sklearn.model_selection import train_test_split\n",
    "\n",
    "train_data, test_data = train_test_split(data, test_size=0.2, random_state=42)\n",
    "\n",
    "train_text = train_data['text'].values\n",
    "train_label = train_data['sentiment'].values\n",
    "\n",
    "test_text = test_data['text'].values\n",
    "test_text = train_data['sentiment'].values\n"
   ]
  },
  {
   "cell_type": "code",
   "execution_count": 45,
   "id": "31aa9734",
   "metadata": {},
   "outputs": [
    {
     "name": "stdout",
     "output_type": "stream",
     "text": [
      "<bound method NDFrame.head of          sentiment          id                          date     query  \\\n",
      "0                4  1985366429  Sun May 31 16:58:11 PDT 2009  NO_QUERY   \n",
      "1                0  2059574448  Sat Jun 06 17:12:25 PDT 2009  NO_QUERY   \n",
      "2                4  1563736552  Mon Apr 20 00:02:30 PDT 2009  NO_QUERY   \n",
      "3                0  2230637807  Thu Jun 18 17:23:42 PDT 2009  NO_QUERY   \n",
      "4                0  2229802139  Thu Jun 18 16:13:37 PDT 2009  NO_QUERY   \n",
      "...            ...         ...                           ...       ...   \n",
      "1599995          0  1880802969  Fri May 22 02:33:38 PDT 2009  NO_QUERY   \n",
      "1599996          4  2063637755  Sun Jun 07 03:28:42 PDT 2009  NO_QUERY   \n",
      "1599997          0  1993916777  Mon Jun 01 11:07:45 PDT 2009  NO_QUERY   \n",
      "1599998          0  1685598048  Sun May 03 01:07:42 PDT 2009  NO_QUERY   \n",
      "1599999          0  2063430733  Sun Jun 07 02:37:44 PDT 2009  NO_QUERY   \n",
      "\n",
      "                    user                                               text  \n",
      "0                bryvrgs  @ThatGuyFSU_ATL really? Isn't it awkward? Your...  \n",
      "1               Kasia_B_  @AaronPrice97 Yes, &quot;Stepbrothers&quot;  w...  \n",
      "2                 ThE_ED              ah, welcome als follower @blauwmp ;)   \n",
      "3                 kpj104  @LinuxWeather lemme know if you have success! ...  \n",
      "4        AyyoItsAmandaJo  @trishawaslyyke gahhh sounds good to me. ack! ...  \n",
      "...                  ...                                                ...  \n",
      "1599995        camillakr  noooooo! youtube is evil!   seriously, what's ...  \n",
      "1599996       ezrabutler      @TrueGabe new client, exploring my new city.   \n",
      "1599997          XgailyX  just found out my hubby planning a boys weeken...  \n",
      "1599998         amigastu  @oxchris morning, I thought you said 'cleaning...  \n",
      "1599999     richblackman                                 @AroundDaWayGirl    \n",
      "\n",
      "[1600000 rows x 6 columns]>\n"
     ]
    }
   ],
   "source": [
    "print(data.head)"
   ]
  },
  {
   "cell_type": "code",
   "execution_count": 46,
   "id": "6bb74665",
   "metadata": {},
   "outputs": [
    {
     "data": {
      "text/plain": [
       "sentiment    0\n",
       "id           0\n",
       "date         0\n",
       "query        0\n",
       "user         0\n",
       "text         0\n",
       "dtype: int64"
      ]
     },
     "execution_count": 46,
     "metadata": {},
     "output_type": "execute_result"
    }
   ],
   "source": [
    "data.isnull().sum()"
   ]
  },
  {
   "cell_type": "code",
   "execution_count": 47,
   "id": "147dd196",
   "metadata": {},
   "outputs": [],
   "source": [
    "data = data.dropna()"
   ]
  },
  {
   "cell_type": "code",
   "execution_count": 48,
   "id": "45357b49",
   "metadata": {},
   "outputs": [
    {
     "name": "stdout",
     "output_type": "stream",
     "text": [
      "<class 'pandas.core.frame.DataFrame'>\n",
      "RangeIndex: 1600000 entries, 0 to 1599999\n",
      "Data columns (total 6 columns):\n",
      " #   Column     Non-Null Count    Dtype \n",
      "---  ------     --------------    ----- \n",
      " 0   sentiment  1600000 non-null  int64 \n",
      " 1   id         1600000 non-null  int64 \n",
      " 2   date       1600000 non-null  object\n",
      " 3   query      1600000 non-null  object\n",
      " 4   user       1600000 non-null  object\n",
      " 5   text       1600000 non-null  object\n",
      "dtypes: int64(2), object(4)\n",
      "memory usage: 73.2+ MB\n"
     ]
    }
   ],
   "source": [
    "data.info()"
   ]
  },
  {
   "cell_type": "code",
   "execution_count": 25,
   "id": "e744bb1c",
   "metadata": {},
   "outputs": [
    {
     "name": "stdout",
     "output_type": "stream",
     "text": [
      "         sentiment          id                          date     query  \\\n",
      "0                4  2049424149  Fri Jun 05 16:51:23 PDT 2009  NO_QUERY   \n",
      "1                0  2002615321  Tue Jun 02 04:42:56 PDT 2009  NO_QUERY   \n",
      "2                0  1962731273  Fri May 29 11:33:15 PDT 2009  NO_QUERY   \n",
      "3                0  2055225435  Sat Jun 06 08:56:05 PDT 2009  NO_QUERY   \n",
      "4                0  2298098867  Tue Jun 23 11:15:16 PDT 2009  NO_QUERY   \n",
      "...            ...         ...                           ...       ...   \n",
      "1599995          0  1771073830  Mon May 11 23:06:44 PDT 2009  NO_QUERY   \n",
      "1599996          0  2242083998  Fri Jun 19 11:44:57 PDT 2009  NO_QUERY   \n",
      "1599997          4  1970708617  Sat May 30 04:55:47 PDT 2009  NO_QUERY   \n",
      "1599998          4  2018043288  Wed Jun 03 09:20:51 PDT 2009  NO_QUERY   \n",
      "1599999          4  2000254797  Mon Jun 01 21:43:31 PDT 2009  NO_QUERY   \n",
      "\n",
      "                    user                                               text  \n",
      "0             kmliverett  @MaddieDW It's called Fruit Pastilles...comes ...  \n",
      "1             anyamalfoy  I've got half an hour to kill and my phone is ...  \n",
      "2              Unklgravy  Heading south on I-95.  Jacked mess around SR ...  \n",
      "3             XFearLessX  I really really really wish i could see @taylo...  \n",
      "4        javillonaressex  @tymoss here in the philippines the thyphoon w...  \n",
      "...                  ...                                                ...  \n",
      "1599995       biscuitrat  It's funny how much less I update since Twitte...  \n",
      "1599996         nakedWeb           @rob_james I think you best unfollow me   \n",
      "1599997      JoloveMcFLY  @Rove1974 Hey Rove! have you heard of a band c...  \n",
      "1599998        ciaomunch  TIE-DYE TIE-DYE TIE-DYE! Next lab is to tie-dy...  \n",
      "1599999   beardsandjuice                     Saw a baby, got fed, good day   \n",
      "\n",
      "[1600000 rows x 6 columns]\n"
     ]
    }
   ],
   "source": [
    "print(data)"
   ]
  },
  {
   "cell_type": "code",
   "execution_count": 49,
   "id": "1d35c719",
   "metadata": {},
   "outputs": [
    {
     "name": "stdout",
     "output_type": "stream",
     "text": [
      "                     text\n",
      "0  This is a sample text.\n",
      "1   Another example text!\n"
     ]
    }
   ],
   "source": [
    "import pandas as pd\n",
    "import re\n",
    "\n",
    "\n",
    "# Define the DataFrame\n",
    "data = {'text': ['This is a sample text.', 'Another example text!']}\n",
    "df = pd.DataFrame(data)\n",
    "\n",
    "# Define the function to clean the text\n",
    "def clean_text(text):\n",
    "    # Your text cleaning code here\n",
    "    return text\n",
    "\n",
    "# Apply the function to the 'text' column of the DataFrame\n",
    "df['text'] = df['text'].apply(clean_text)\n",
    "\n",
    "# Print the updated DataFrame\n",
    "print(df)\n",
    "\n",
    "def clean_text(text):\n",
    "    text = re.sub(r'@[A-Za-z0-9]+', '', text)  # Remove @mentions\n",
    "    text = re.sub(r'#', '', text)  # Remove hashtags\n",
    "    text = re.sub(r'RT[\\s]+', '', text)  # Remove retweets\n",
    "    text = re.sub(r'https?:\\/\\/\\S+', '', text)  # Remove hyperlinks\n",
    "    text = re.sub(r'\\d+', '', text)  # Remove digits\n",
    "    text = text.lower()  # Convert text to lowercase\n",
    "    return text\n",
    "\n",
    "df['text'] = df['text'].apply(clean_text)\n"
   ]
  },
  {
   "cell_type": "code",
   "execution_count": null,
   "id": "f1f842c8",
   "metadata": {},
   "outputs": [],
   "source": [
    "\n"
   ]
  },
  {
   "cell_type": "code",
   "execution_count": 1,
   "id": "9120ce6a",
   "metadata": {},
   "outputs": [],
   "source": [
    "import pandas as pd\n",
    "from sklearn.feature_extraction.text import CountVectorizer\n",
    "from sklearn.model_selection import train_test_split\n",
    "\n",
    "# Load data into a DataFrame\n",
    "data = pd.read_csv('training.1600000.processed.noemoticon.csv', encoding='latin-1', header=None, names=['sentiment', 'id', 'date', 'query', 'user', 'text'])\n",
    "\n",
    "# Extract input features into X_train\n",
    "X_train = data['text']\n",
    "\n",
    "# Extract target variable into y_train\n",
    "y_train = data['sentiment']\n",
    "\n",
    "# Create a CountVectorizer object and fit_transform X_train\n",
    "vectorizer = CountVectorizer()\n",
    "X_train_vec = vectorizer.fit_transform(X_train)\n",
    "\n",
    "# Split the data into training and testing sets\n",
    "X_train, X_test, y_train, y_test = train_test_split(X_train_vec, y_train, test_size=0.2, random_state=42)\n",
    "\n",
    "# Train your model using the training data\n",
    "\n",
    "# Test your model using the testing data\n"
   ]
  },
  {
   "cell_type": "code",
   "execution_count": 3,
   "id": "f68b06d4",
   "metadata": {},
   "outputs": [
    {
     "name": "stdout",
     "output_type": "stream",
     "text": [
      "Requirement already satisfied: gensim in c:\\users\\221\\anaconda3\\lib\\site-packages (4.3.1)\n",
      "Requirement already satisfied: scipy>=1.7.0 in c:\\users\\221\\anaconda3\\lib\\site-packages (from gensim) (1.9.1)\n",
      "Requirement already satisfied: numpy>=1.18.5 in c:\\users\\221\\anaconda3\\lib\\site-packages (from gensim) (1.21.5)\n",
      "Requirement already satisfied: smart-open>=1.8.1 in c:\\users\\221\\anaconda3\\lib\\site-packages (from gensim) (5.2.1)\n",
      "Requirement already satisfied: keras in c:\\users\\221\\anaconda3\\lib\\site-packages (2.12.0)\n"
     ]
    }
   ],
   "source": [
    "!pip install gensim --upgrade\n",
    "!pip install keras --upgrade\n"
   ]
  },
  {
   "cell_type": "code",
   "execution_count": 6,
   "id": "a3e63672",
   "metadata": {},
   "outputs": [],
   "source": [
    "import nltk"
   ]
  },
  {
   "cell_type": "code",
   "execution_count": 9,
   "id": "0ee3abdf",
   "metadata": {},
   "outputs": [
    {
     "name": "stderr",
     "output_type": "stream",
     "text": [
      "[nltk_data] Downloading package stopwords to\n",
      "[nltk_data]     C:\\Users\\221\\AppData\\Roaming\\nltk_data...\n",
      "[nltk_data]   Unzipping corpora\\stopwords.zip.\n"
     ]
    },
    {
     "data": {
      "text/plain": [
       "True"
      ]
     },
     "execution_count": 9,
     "metadata": {},
     "output_type": "execute_result"
    }
   ],
   "source": [
    "nltk.download('stopwords')"
   ]
  },
  {
   "cell_type": "code",
   "execution_count": 11,
   "id": "ac03d7b0",
   "metadata": {},
   "outputs": [
    {
     "name": "stdout",
     "output_type": "stream",
     "text": [
      "Collecting tensorflow\n",
      "  Downloading tensorflow-2.11.1-cp39-cp39-win_amd64.whl (1.9 kB)\n",
      "Collecting tensorflow-intel==2.11.1\n",
      "  Downloading tensorflow_intel-2.11.1-cp39-cp39-win_amd64.whl (266.3 MB)\n",
      "     ------------------------------------ 266.3/266.3 MB 420.6 kB/s eta 0:00:00\n",
      "Collecting tensorflow-estimator<2.12,>=2.11.0\n",
      "  Downloading tensorflow_estimator-2.11.0-py2.py3-none-any.whl (439 kB)\n",
      "     ------------------------------------ 439.2/439.2 kB 482.0 kB/s eta 0:00:00\n",
      "Requirement already satisfied: typing-extensions>=3.6.6 in c:\\users\\221\\anaconda3\\lib\\site-packages (from tensorflow-intel==2.11.1->tensorflow) (4.3.0)\n",
      "Requirement already satisfied: wrapt>=1.11.0 in c:\\users\\221\\anaconda3\\lib\\site-packages (from tensorflow-intel==2.11.1->tensorflow) (1.14.1)\n",
      "Collecting gast<=0.4.0,>=0.2.1\n",
      "  Using cached gast-0.4.0-py3-none-any.whl (9.8 kB)\n",
      "Requirement already satisfied: packaging in c:\\users\\221\\anaconda3\\lib\\site-packages (from tensorflow-intel==2.11.1->tensorflow) (21.3)\n",
      "Collecting flatbuffers>=2.0\n",
      "  Downloading flatbuffers-23.3.3-py2.py3-none-any.whl (26 kB)\n",
      "Requirement already satisfied: six>=1.12.0 in c:\\users\\221\\anaconda3\\lib\\site-packages (from tensorflow-intel==2.11.1->tensorflow) (1.16.0)\n",
      "Collecting absl-py>=1.0.0\n",
      "  Using cached absl_py-1.4.0-py3-none-any.whl (126 kB)\n",
      "Requirement already satisfied: h5py>=2.9.0 in c:\\users\\221\\anaconda3\\lib\\site-packages (from tensorflow-intel==2.11.1->tensorflow) (3.7.0)\n",
      "Requirement already satisfied: setuptools in c:\\users\\221\\anaconda3\\lib\\site-packages (from tensorflow-intel==2.11.1->tensorflow) (63.4.1)\n",
      "Collecting opt-einsum>=2.3.2\n",
      "  Using cached opt_einsum-3.3.0-py3-none-any.whl (65 kB)\n",
      "Collecting tensorboard<2.12,>=2.11\n",
      "  Downloading tensorboard-2.11.2-py3-none-any.whl (6.0 MB)\n",
      "     ---------------------------------------- 6.0/6.0 MB 466.9 kB/s eta 0:00:00\n",
      "Collecting termcolor>=1.1.0\n",
      "  Using cached termcolor-2.2.0-py3-none-any.whl (6.6 kB)\n",
      "Collecting tensorflow-io-gcs-filesystem>=0.23.1\n",
      "  Downloading tensorflow_io_gcs_filesystem-0.31.0-cp39-cp39-win_amd64.whl (1.5 MB)\n",
      "     ---------------------------------------- 1.5/1.5 MB 482.1 kB/s eta 0:00:00\n",
      "Collecting protobuf<3.20,>=3.9.2\n",
      "  Downloading protobuf-3.19.6-cp39-cp39-win_amd64.whl (895 kB)\n",
      "     ------------------------------------ 895.9/895.9 kB 488.8 kB/s eta 0:00:00\n",
      "Collecting grpcio<2.0,>=1.24.3\n",
      "  Downloading grpcio-1.51.3-cp39-cp39-win_amd64.whl (3.7 MB)\n",
      "     ---------------------------------------- 3.7/3.7 MB 481.4 kB/s eta 0:00:00\n",
      "Requirement already satisfied: numpy>=1.20 in c:\\users\\221\\anaconda3\\lib\\site-packages (from tensorflow-intel==2.11.1->tensorflow) (1.21.5)\n",
      "Collecting google-pasta>=0.1.1\n",
      "  Using cached google_pasta-0.2.0-py3-none-any.whl (57 kB)\n",
      "Collecting keras<2.12,>=2.11.0\n",
      "  Downloading keras-2.11.0-py2.py3-none-any.whl (1.7 MB)\n",
      "     ---------------------------------------- 1.7/1.7 MB 485.2 kB/s eta 0:00:00\n",
      "Collecting astunparse>=1.6.0\n",
      "  Using cached astunparse-1.6.3-py2.py3-none-any.whl (12 kB)\n",
      "Collecting libclang>=13.0.0\n",
      "  Using cached libclang-15.0.6.1-py2.py3-none-win_amd64.whl (23.2 MB)\n",
      "Requirement already satisfied: wheel<1.0,>=0.23.0 in c:\\users\\221\\anaconda3\\lib\\site-packages (from astunparse>=1.6.0->tensorflow-intel==2.11.1->tensorflow) (0.37.1)\n",
      "Requirement already satisfied: werkzeug>=1.0.1 in c:\\users\\221\\anaconda3\\lib\\site-packages (from tensorboard<2.12,>=2.11->tensorflow-intel==2.11.1->tensorflow) (2.0.3)\n",
      "Requirement already satisfied: markdown>=2.6.8 in c:\\users\\221\\anaconda3\\lib\\site-packages (from tensorboard<2.12,>=2.11->tensorflow-intel==2.11.1->tensorflow) (3.3.4)\n",
      "Collecting google-auth-oauthlib<0.5,>=0.4.1\n",
      "  Using cached google_auth_oauthlib-0.4.6-py2.py3-none-any.whl (18 kB)\n",
      "Collecting tensorboard-data-server<0.7.0,>=0.6.0\n",
      "  Downloading tensorboard_data_server-0.6.1-py3-none-any.whl (2.4 kB)\n",
      "Collecting tensorboard-plugin-wit>=1.6.0\n",
      "  Using cached tensorboard_plugin_wit-1.8.1-py3-none-any.whl (781 kB)\n",
      "Requirement already satisfied: requests<3,>=2.21.0 in c:\\users\\221\\anaconda3\\lib\\site-packages (from tensorboard<2.12,>=2.11->tensorflow-intel==2.11.1->tensorflow) (2.28.1)\n",
      "Collecting google-auth<3,>=1.6.3\n",
      "  Downloading google_auth-2.16.2-py2.py3-none-any.whl (177 kB)\n",
      "     ------------------------------------ 177.2/177.2 kB 533.4 kB/s eta 0:00:00\n",
      "Requirement already satisfied: pyparsing!=3.0.5,>=2.0.2 in c:\\users\\221\\anaconda3\\lib\\site-packages (from packaging->tensorflow-intel==2.11.1->tensorflow) (3.0.9)\n",
      "Collecting rsa<5,>=3.1.4\n",
      "  Using cached rsa-4.9-py3-none-any.whl (34 kB)\n",
      "Collecting cachetools<6.0,>=2.0.0\n",
      "  Using cached cachetools-5.3.0-py3-none-any.whl (9.3 kB)\n",
      "Requirement already satisfied: pyasn1-modules>=0.2.1 in c:\\users\\221\\anaconda3\\lib\\site-packages (from google-auth<3,>=1.6.3->tensorboard<2.12,>=2.11->tensorflow-intel==2.11.1->tensorflow) (0.2.8)\n",
      "Collecting requests-oauthlib>=0.7.0\n",
      "  Using cached requests_oauthlib-1.3.1-py2.py3-none-any.whl (23 kB)\n",
      "Requirement already satisfied: certifi>=2017.4.17 in c:\\users\\221\\anaconda3\\lib\\site-packages (from requests<3,>=2.21.0->tensorboard<2.12,>=2.11->tensorflow-intel==2.11.1->tensorflow) (2022.9.14)\n",
      "Requirement already satisfied: urllib3<1.27,>=1.21.1 in c:\\users\\221\\anaconda3\\lib\\site-packages (from requests<3,>=2.21.0->tensorboard<2.12,>=2.11->tensorflow-intel==2.11.1->tensorflow) (1.26.11)\n",
      "Requirement already satisfied: charset-normalizer<3,>=2 in c:\\users\\221\\anaconda3\\lib\\site-packages (from requests<3,>=2.21.0->tensorboard<2.12,>=2.11->tensorflow-intel==2.11.1->tensorflow) (2.0.4)\n",
      "Requirement already satisfied: idna<4,>=2.5 in c:\\users\\221\\anaconda3\\lib\\site-packages (from requests<3,>=2.21.0->tensorboard<2.12,>=2.11->tensorflow-intel==2.11.1->tensorflow) (3.3)\n",
      "Requirement already satisfied: pyasn1<0.5.0,>=0.4.6 in c:\\users\\221\\anaconda3\\lib\\site-packages (from pyasn1-modules>=0.2.1->google-auth<3,>=1.6.3->tensorboard<2.12,>=2.11->tensorflow-intel==2.11.1->tensorflow) (0.4.8)\n",
      "Collecting oauthlib>=3.0.0\n",
      "  Using cached oauthlib-3.2.2-py3-none-any.whl (151 kB)\n",
      "Installing collected packages: tensorboard-plugin-wit, libclang, flatbuffers, termcolor, tensorflow-io-gcs-filesystem, tensorflow-estimator, tensorboard-data-server, rsa, protobuf, opt-einsum, oauthlib, keras, grpcio, google-pasta, gast, cachetools, astunparse, absl-py, requests-oauthlib, google-auth, google-auth-oauthlib, tensorboard, tensorflow-intel, tensorflow\n",
      "  Attempting uninstall: keras\n",
      "    Found existing installation: keras 2.12.0\n",
      "    Uninstalling keras-2.12.0:\n",
      "      Successfully uninstalled keras-2.12.0\n",
      "Successfully installed absl-py-1.4.0 astunparse-1.6.3 cachetools-5.3.0 flatbuffers-23.3.3 gast-0.4.0 google-auth-2.16.2 google-auth-oauthlib-0.4.6 google-pasta-0.2.0 grpcio-1.51.3 keras-2.11.0 libclang-15.0.6.1 oauthlib-3.2.2 opt-einsum-3.3.0 protobuf-3.19.6 requests-oauthlib-1.3.1 rsa-4.9 tensorboard-2.11.2 tensorboard-data-server-0.6.1 tensorboard-plugin-wit-1.8.1 tensorflow-2.11.1 tensorflow-estimator-2.11.0 tensorflow-intel-2.11.1 tensorflow-io-gcs-filesystem-0.31.0 termcolor-2.2.0\n",
      "Note: you may need to restart the kernel to use updated packages.\n"
     ]
    }
   ],
   "source": [
    "pip install tensorflow"
   ]
  },
  {
   "cell_type": "code",
   "execution_count": 14,
   "id": "76bd0012",
   "metadata": {},
   "outputs": [
    {
     "name": "stdout",
     "output_type": "stream",
     "text": [
      "Requirement already satisfied: numpy in c:\\users\\221\\anaconda3\\lib\\site-packages (1.21.5)\n",
      "Collecting numpy\n",
      "  Downloading numpy-1.24.2-cp39-cp39-win_amd64.whl (14.9 MB)\n",
      "     -------------------------------------- 14.9/14.9 MB 416.6 kB/s eta 0:00:00\n",
      "Installing collected packages: numpy\n",
      "  Attempting uninstall: numpy\n",
      "    Found existing installation: numpy 1.21.5\n",
      "    Uninstalling numpy-1.21.5:\n",
      "      Successfully uninstalled numpy-1.21.5\n",
      "Note: you may need to restart the kernel to use updated packages.\n"
     ]
    },
    {
     "name": "stderr",
     "output_type": "stream",
     "text": [
      "ERROR: Could not install packages due to an OSError: [WinError 5] Access is denied: 'C:\\\\Users\\\\221\\\\anaconda3\\\\Lib\\\\site-packages\\\\~umpy\\\\core\\\\_multiarray_tests.cp39-win_amd64.pyd'\n",
      "Consider using the `--user` option or check the permissions.\n",
      "\n"
     ]
    }
   ],
   "source": [
    "pip install numpy --upgrade"
   ]
  },
  {
   "cell_type": "code",
   "execution_count": 19,
   "id": "244a818a",
   "metadata": {},
   "outputs": [],
   "source": [
    "import matplotlib.pyplot as plt\n",
    "import seaborn as sns\n",
    "import pandas as pd\n",
    "import numpy as np\n",
    "import re\n",
    "import pickle\n",
    "\n",
    "from sklearn.model_selection import train_test_split\n",
    "from sklearn.feature_extraction.text import TfidfVectorizer\n",
    "\n",
    "from sklearn.linear_model import LogisticRegression\n",
    "\n",
    "from sklearn.metrics import classification_report, confusion_matrix, accuracy_score, f1_score\n",
    "\n",
    "import warnings\n",
    "warnings.filterwarnings('ignore')\n",
    "np.random.seed(42)\n",
    "%matplotlib inline"
   ]
  },
  {
   "cell_type": "code",
   "execution_count": 20,
   "id": "f78b80f4",
   "metadata": {},
   "outputs": [
    {
     "name": "stdout",
     "output_type": "stream",
     "text": [
      "Requirement already satisfied: tweepy in c:\\users\\221\\anaconda3\\lib\\site-packages (4.13.0)\n",
      "Requirement already satisfied: requests-oauthlib<2,>=1.2.0 in c:\\users\\221\\anaconda3\\lib\\site-packages (from tweepy) (1.3.1)\n",
      "Requirement already satisfied: requests<3,>=2.27.0 in c:\\users\\221\\anaconda3\\lib\\site-packages (from tweepy) (2.28.1)\n",
      "Requirement already satisfied: oauthlib<4,>=3.2.0 in c:\\users\\221\\anaconda3\\lib\\site-packages (from tweepy) (3.2.2)\n",
      "Requirement already satisfied: urllib3<1.27,>=1.21.1 in c:\\users\\221\\anaconda3\\lib\\site-packages (from requests<3,>=2.27.0->tweepy) (1.26.11)\n",
      "Requirement already satisfied: charset-normalizer<3,>=2 in c:\\users\\221\\anaconda3\\lib\\site-packages (from requests<3,>=2.27.0->tweepy) (2.0.4)\n",
      "Requirement already satisfied: certifi>=2017.4.17 in c:\\users\\221\\anaconda3\\lib\\site-packages (from requests<3,>=2.27.0->tweepy) (2022.9.14)\n",
      "Requirement already satisfied: idna<4,>=2.5 in c:\\users\\221\\anaconda3\\lib\\site-packages (from requests<3,>=2.27.0->tweepy) (3.3)\n"
     ]
    }
   ],
   "source": [
    "!pip install tweepy"
   ]
  },
  {
   "cell_type": "code",
   "execution_count": 26,
   "id": "245b8c02",
   "metadata": {},
   "outputs": [
    {
     "data": {
      "text/html": [
       "<div>\n",
       "<style scoped>\n",
       "    .dataframe tbody tr th:only-of-type {\n",
       "        vertical-align: middle;\n",
       "    }\n",
       "\n",
       "    .dataframe tbody tr th {\n",
       "        vertical-align: top;\n",
       "    }\n",
       "\n",
       "    .dataframe thead th {\n",
       "        text-align: right;\n",
       "    }\n",
       "</style>\n",
       "<table border=\"1\" class=\"dataframe\">\n",
       "  <thead>\n",
       "    <tr style=\"text-align: right;\">\n",
       "      <th></th>\n",
       "      <th>sentiment</th>\n",
       "      <th>id</th>\n",
       "      <th>date</th>\n",
       "      <th>query</th>\n",
       "      <th>user</th>\n",
       "      <th>text</th>\n",
       "    </tr>\n",
       "  </thead>\n",
       "  <tbody>\n",
       "    <tr>\n",
       "      <th>0</th>\n",
       "      <td>0</td>\n",
       "      <td>1467810369</td>\n",
       "      <td>Mon Apr 06 22:19:45 PDT 2009</td>\n",
       "      <td>NO_QUERY</td>\n",
       "      <td>_TheSpecialOne_</td>\n",
       "      <td>@switchfoot http://twitpic.com/2y1zl - Awww, t...</td>\n",
       "    </tr>\n",
       "    <tr>\n",
       "      <th>1</th>\n",
       "      <td>0</td>\n",
       "      <td>1467810672</td>\n",
       "      <td>Mon Apr 06 22:19:49 PDT 2009</td>\n",
       "      <td>NO_QUERY</td>\n",
       "      <td>scotthamilton</td>\n",
       "      <td>is upset that he can't update his Facebook by ...</td>\n",
       "    </tr>\n",
       "    <tr>\n",
       "      <th>2</th>\n",
       "      <td>0</td>\n",
       "      <td>1467810917</td>\n",
       "      <td>Mon Apr 06 22:19:53 PDT 2009</td>\n",
       "      <td>NO_QUERY</td>\n",
       "      <td>mattycus</td>\n",
       "      <td>@Kenichan I dived many times for the ball. Man...</td>\n",
       "    </tr>\n",
       "    <tr>\n",
       "      <th>3</th>\n",
       "      <td>0</td>\n",
       "      <td>1467811184</td>\n",
       "      <td>Mon Apr 06 22:19:57 PDT 2009</td>\n",
       "      <td>NO_QUERY</td>\n",
       "      <td>ElleCTF</td>\n",
       "      <td>my whole body feels itchy and like its on fire</td>\n",
       "    </tr>\n",
       "    <tr>\n",
       "      <th>4</th>\n",
       "      <td>0</td>\n",
       "      <td>1467811193</td>\n",
       "      <td>Mon Apr 06 22:19:57 PDT 2009</td>\n",
       "      <td>NO_QUERY</td>\n",
       "      <td>Karoli</td>\n",
       "      <td>@nationwideclass no, it's not behaving at all....</td>\n",
       "    </tr>\n",
       "  </tbody>\n",
       "</table>\n",
       "</div>"
      ],
      "text/plain": [
       "   sentiment          id                          date     query  \\\n",
       "0          0  1467810369  Mon Apr 06 22:19:45 PDT 2009  NO_QUERY   \n",
       "1          0  1467810672  Mon Apr 06 22:19:49 PDT 2009  NO_QUERY   \n",
       "2          0  1467810917  Mon Apr 06 22:19:53 PDT 2009  NO_QUERY   \n",
       "3          0  1467811184  Mon Apr 06 22:19:57 PDT 2009  NO_QUERY   \n",
       "4          0  1467811193  Mon Apr 06 22:19:57 PDT 2009  NO_QUERY   \n",
       "\n",
       "              user                                               text  \n",
       "0  _TheSpecialOne_  @switchfoot http://twitpic.com/2y1zl - Awww, t...  \n",
       "1    scotthamilton  is upset that he can't update his Facebook by ...  \n",
       "2         mattycus  @Kenichan I dived many times for the ball. Man...  \n",
       "3          ElleCTF    my whole body feels itchy and like its on fire   \n",
       "4           Karoli  @nationwideclass no, it's not behaving at all....  "
      ]
     },
     "execution_count": 26,
     "metadata": {},
     "output_type": "execute_result"
    }
   ],
   "source": [
    "data.head()"
   ]
  },
  {
   "cell_type": "code",
   "execution_count": 27,
   "id": "8a9b5a7f",
   "metadata": {},
   "outputs": [
    {
     "data": {
      "text/plain": [
       "Index(['sentiment', 'id', 'date', 'query', 'user', 'text'], dtype='object')"
      ]
     },
     "execution_count": 27,
     "metadata": {},
     "output_type": "execute_result"
    }
   ],
   "source": [
    "data.columns"
   ]
  },
  {
   "cell_type": "code",
   "execution_count": 31,
   "id": "b5e8e4af",
   "metadata": {},
   "outputs": [],
   "source": [
    "features ='text'\n",
    "target = 'sentiment'\n",
    "data = data[[features, target]]"
   ]
  },
  {
   "cell_type": "code",
   "execution_count": 32,
   "id": "a9c8ac21",
   "metadata": {},
   "outputs": [
    {
     "data": {
      "text/plain": [
       "<bound method DataFrame.info of                                                       text  sentiment\n",
       "0        @switchfoot http://twitpic.com/2y1zl - Awww, t...          0\n",
       "1        is upset that he can't update his Facebook by ...          0\n",
       "2        @Kenichan I dived many times for the ball. Man...          0\n",
       "3          my whole body feels itchy and like its on fire           0\n",
       "4        @nationwideclass no, it's not behaving at all....          0\n",
       "...                                                    ...        ...\n",
       "1599995  Just woke up. Having no school is the best fee...          4\n",
       "1599996  TheWDB.com - Very cool to hear old Walt interv...          4\n",
       "1599997  Are you ready for your MoJo Makeover? Ask me f...          4\n",
       "1599998  Happy 38th Birthday to my boo of alll time!!! ...          4\n",
       "1599999  happy #charitytuesday @theNSPCC @SparksCharity...          4\n",
       "\n",
       "[1600000 rows x 2 columns]>"
      ]
     },
     "execution_count": 32,
     "metadata": {},
     "output_type": "execute_result"
    }
   ],
   "source": [
    "data.info"
   ]
  },
  {
   "cell_type": "code",
   "execution_count": 34,
   "id": "9dd46d3d",
   "metadata": {},
   "outputs": [],
   "source": [
    "data['sentiment'] = pd.to_numeric(data['sentiment'], downcast='integer')"
   ]
  },
  {
   "cell_type": "code",
   "execution_count": 35,
   "id": "d77d6daf",
   "metadata": {},
   "outputs": [
    {
     "data": {
      "text/plain": [
       "<bound method DataFrame.info of                                                       text  sentiment\n",
       "0        @switchfoot http://twitpic.com/2y1zl - Awww, t...          0\n",
       "1        is upset that he can't update his Facebook by ...          0\n",
       "2        @Kenichan I dived many times for the ball. Man...          0\n",
       "3          my whole body feels itchy and like its on fire           0\n",
       "4        @nationwideclass no, it's not behaving at all....          0\n",
       "...                                                    ...        ...\n",
       "1599995  Just woke up. Having no school is the best fee...          4\n",
       "1599996  TheWDB.com - Very cool to hear old Walt interv...          4\n",
       "1599997  Are you ready for your MoJo Makeover? Ask me f...          4\n",
       "1599998  Happy 38th Birthday to my boo of alll time!!! ...          4\n",
       "1599999  happy #charitytuesday @theNSPCC @SparksCharity...          4\n",
       "\n",
       "[1600000 rows x 2 columns]>"
      ]
     },
     "execution_count": 35,
     "metadata": {},
     "output_type": "execute_result"
    }
   ],
   "source": [
    "data.info"
   ]
  },
  {
   "cell_type": "code",
   "execution_count": 37,
   "id": "3bbe96fb",
   "metadata": {},
   "outputs": [
    {
     "data": {
      "text/plain": [
       "0    800000\n",
       "1    800000\n",
       "Name: sentiment, dtype: int64"
      ]
     },
     "execution_count": 37,
     "metadata": {},
     "output_type": "execute_result"
    }
   ],
   "source": [
    "data['sentiment'] = data['sentiment'].replace(4, 1)\n",
    "data['sentiment'].value_counts()"
   ]
  },
  {
   "cell_type": "code",
   "execution_count": 41,
   "id": "02865e79",
   "metadata": {},
   "outputs": [],
   "source": [
    "# take out the @usernames\n",
    "data['text'] = data['text'].apply(lambda x: re.sub('@[^\\s]+','',x))\n",
    "\n",
    "# take out the links\n",
    "data[\"text\"] = data[\"text\"].apply(lambda x: re.sub(r\"http\\S+\", \"\", x))\n",
    "\n",
    "# take out the hashtags\n",
    "data[\"text\"] = data[\"text\"].apply(lambda x: re.sub(r\"#\\S+\", \"\", x))"
   ]
  },
  {
   "cell_type": "code",
   "execution_count": 42,
   "id": "eb294948",
   "metadata": {},
   "outputs": [
    {
     "data": {
      "text/plain": [
       "<bound method DataFrame.info of                                                       text  sentiment\n",
       "0          - Awww, that's a bummer.  You shoulda got Da...          0\n",
       "1        is upset that he can't update his Facebook by ...          0\n",
       "2         I dived many times for the ball. Managed to s...          0\n",
       "3          my whole body feels itchy and like its on fire           0\n",
       "4         no, it's not behaving at all. i'm mad. why am...          0\n",
       "...                                                    ...        ...\n",
       "1599995  Just woke up. Having no school is the best fee...          1\n",
       "1599996  TheWDB.com - Very cool to hear old Walt interv...          1\n",
       "1599997  Are you ready for your MoJo Makeover? Ask me f...          1\n",
       "1599998  Happy 38th Birthday to my boo of alll time!!! ...          1\n",
       "1599999                                         happy               1\n",
       "\n",
       "[1600000 rows x 2 columns]>"
      ]
     },
     "execution_count": 42,
     "metadata": {},
     "output_type": "execute_result"
    }
   ],
   "source": [
    "data.info"
   ]
  },
  {
   "cell_type": "code",
   "execution_count": 45,
   "id": "88476855",
   "metadata": {},
   "outputs": [],
   "source": [
    "# Define the DataFrame\n",
    "data = {'text': ['This is a sample text.', 'Another example text!']}\n",
    "df = pd.DataFrame(data)"
   ]
  },
  {
   "cell_type": "code",
   "execution_count": 52,
   "id": "2a54903d",
   "metadata": {},
   "outputs": [
    {
     "data": {
      "text/plain": [
       "20"
      ]
     },
     "execution_count": 52,
     "metadata": {},
     "output_type": "execute_result"
    }
   ],
   "source": [
    "import pandas as pd\n",
    "pd.get_option(\"display.max_columns\")"
   ]
  },
  {
   "cell_type": "code",
   "execution_count": 56,
   "id": "06b87320",
   "metadata": {},
   "outputs": [
    {
     "data": {
      "text/plain": [
       "0.796796875"
      ]
     },
     "execution_count": 56,
     "metadata": {},
     "output_type": "execute_result"
    }
   ],
   "source": [
    "lr = LogisticRegression()\n",
    "lr.fit(X_train, y_train)\n",
    "lr.score(X_test, y_test)"
   ]
  },
  {
   "cell_type": "code",
   "execution_count": 58,
   "id": "fd8fd07f",
   "metadata": {},
   "outputs": [
    {
     "name": "stdout",
     "output_type": "stream",
     "text": [
      "F1 Score:  0.7921388362332137\n",
      "Accuracy:  0.796796875 \n",
      "\n",
      "              precision    recall  f1-score   support\n",
      "\n",
      "           0       0.81      0.78      0.79    159494\n",
      "           4       0.79      0.82      0.80    160506\n",
      "\n",
      "    accuracy                           0.80    320000\n",
      "   macro avg       0.80      0.80      0.80    320000\n",
      "weighted avg       0.80      0.80      0.80    320000\n",
      "\n",
      "Confusion Matrix:\n",
      " [[123902  35592]\n",
      " [ 29433 131073]]\n"
     ]
    }
   ],
   "source": [
    "print(\"F1 Score: \", f1_score(y_test, lr.predict(X_test), pos_label=0))\n",
    "print('Accuracy: ', accuracy_score(y_test, lr.predict(X_test)), \"\\n\")\n",
    "print(classification_report(y_test, lr.predict(X_test)))\n",
    "print('Confusion Matrix:\\n', confusion_matrix(y_test, lr.predict(X_test)))"
   ]
  },
  {
   "cell_type": "code",
   "execution_count": 59,
   "id": "8426ad78",
   "metadata": {},
   "outputs": [],
   "source": [
    "predict = lambda x: lr.predict(vectorizer.transform([x]))\n",
    "sentiment  = lambda x: 'positive' if predict(x) == 1 else 'negative'"
   ]
  },
  {
   "cell_type": "code",
   "execution_count": 72,
   "id": "b29a0071",
   "metadata": {},
   "outputs": [
    {
     "name": "stdout",
     "output_type": "stream",
     "text": [
      "negative\n"
     ]
    }
   ],
   "source": [
    "from sklearn.feature_extraction.text import TfidfVectorizer\n",
    "from sklearn.linear_model import LogisticRegression\n",
    "\n",
    "# Preprocess the data to remove any non-string elements\n",
    "X_train = [x for x in X_train if isinstance(x, str)]\n",
    "\n",
    "vectorizer = TfidfVectorizer()\n",
    "X_train_vectorized = vectorizer.fit_transform(X_train)\n",
    "lr = LogisticRegression()\n",
    "lr.fit(X_train_vectorized, y_train)\n",
    "\n",
    "def sentiment(x):\n",
    "    # Convert x to string before passing it to transform() method\n",
    "    predict = lr.predict(vectorizer.transform([str(x)]))\n",
    "    return 'positive' if predict == 1 else 'negative'\n",
    "\n",
    "tweet = \"I love this movie\"\n",
    "print(sentiment(tweet))  # Output: positive\n",
    "\n",
    "\n"
   ]
  },
  {
   "cell_type": "code",
   "execution_count": 68,
   "id": "45ec6eee",
   "metadata": {},
   "outputs": [
    {
     "data": {
      "text/plain": [
       "'negative'"
      ]
     },
     "execution_count": 68,
     "metadata": {},
     "output_type": "execute_result"
    }
   ],
   "source": [
    "tweet = \"I love this movie\"\n",
    "sentiment(tweet)"
   ]
  },
  {
   "cell_type": "code",
   "execution_count": 69,
   "id": "239b367b",
   "metadata": {},
   "outputs": [
    {
     "data": {
      "text/html": [
       "<div>\n",
       "<style scoped>\n",
       "    .dataframe tbody tr th:only-of-type {\n",
       "        vertical-align: middle;\n",
       "    }\n",
       "\n",
       "    .dataframe tbody tr th {\n",
       "        vertical-align: top;\n",
       "    }\n",
       "\n",
       "    .dataframe thead th {\n",
       "        text-align: right;\n",
       "    }\n",
       "</style>\n",
       "<table border=\"1\" class=\"dataframe\">\n",
       "  <thead>\n",
       "    <tr style=\"text-align: right;\">\n",
       "      <th></th>\n",
       "      <th>coefficients</th>\n",
       "      <th>abs</th>\n",
       "    </tr>\n",
       "  </thead>\n",
       "  <tbody>\n",
       "    <tr>\n",
       "      <th>529486</th>\n",
       "      <td>-14.198360</td>\n",
       "      <td>14.198360</td>\n",
       "    </tr>\n",
       "    <tr>\n",
       "      <th>415203</th>\n",
       "      <td>-11.028574</td>\n",
       "      <td>11.028574</td>\n",
       "    </tr>\n",
       "    <tr>\n",
       "      <th>488336</th>\n",
       "      <td>-8.708445</td>\n",
       "      <td>8.708445</td>\n",
       "    </tr>\n",
       "    <tr>\n",
       "      <th>581665</th>\n",
       "      <td>-8.302593</td>\n",
       "      <td>8.302593</td>\n",
       "    </tr>\n",
       "    <tr>\n",
       "      <th>633242</th>\n",
       "      <td>-8.275093</td>\n",
       "      <td>8.275093</td>\n",
       "    </tr>\n",
       "    <tr>\n",
       "      <th>529696</th>\n",
       "      <td>-8.093984</td>\n",
       "      <td>8.093984</td>\n",
       "    </tr>\n",
       "    <tr>\n",
       "      <th>416167</th>\n",
       "      <td>-8.038205</td>\n",
       "      <td>8.038205</td>\n",
       "    </tr>\n",
       "    <tr>\n",
       "      <th>553407</th>\n",
       "      <td>-7.725729</td>\n",
       "      <td>7.725729</td>\n",
       "    </tr>\n",
       "    <tr>\n",
       "      <th>186843</th>\n",
       "      <td>-7.709254</td>\n",
       "      <td>7.709254</td>\n",
       "    </tr>\n",
       "    <tr>\n",
       "      <th>657953</th>\n",
       "      <td>-7.339309</td>\n",
       "      <td>7.339309</td>\n",
       "    </tr>\n",
       "  </tbody>\n",
       "</table>\n",
       "</div>"
      ],
      "text/plain": [
       "        coefficients        abs\n",
       "529486    -14.198360  14.198360\n",
       "415203    -11.028574  11.028574\n",
       "488336     -8.708445   8.708445\n",
       "581665     -8.302593   8.302593\n",
       "633242     -8.275093   8.275093\n",
       "529696     -8.093984   8.093984\n",
       "416167     -8.038205   8.038205\n",
       "553407     -7.725729   7.725729\n",
       "186843     -7.709254   7.709254\n",
       "657953     -7.339309   7.339309"
      ]
     },
     "execution_count": 69,
     "metadata": {},
     "output_type": "execute_result"
    }
   ],
   "source": [
    "coefficients = pd.DataFrame(lr.coef_, columns=vectorizer.get_feature_names()).T\n",
    "coefficients.columns = ['coefficients']\n",
    "coefficients['abs'] = coefficients['coefficients'].apply(lambda x: abs(x))\n",
    "coefficients.sort_values(by='abs', ascending=False).head(10)"
   ]
  },
  {
   "cell_type": "code",
   "execution_count": 70,
   "id": "767d2000",
   "metadata": {},
   "outputs": [
    {
     "data": {
      "image/png": "[encoded data removed]",
      "text/plain": [
       "<Figure size 1000x1000 with 1 Axes>"
      ]
     },
     "metadata": {},
     "output_type": "display_data"
    }
   ],
   "source": [
    "plt.figure(figsize=(10, 10))\n",
    "sns.barplot(x='coefficients', y=coefficients.sort_values(by='abs', ascending=False).head(10).index, data=coefficients.sort_values(by='abs', ascending=False).head(10))\n",
    "plt.title('Top 10 Positive and Negative Words')\n",
    "plt.show()"
   ]
  },
  {
   "cell_type": "code",
   "execution_count": 71,
   "id": "3d083462",
   "metadata": {},
   "outputs": [
    {
     "data": {
      "image/png": "[encoded data removed]",
      "text/plain": [
       "<Figure size 1000x1000 with 1 Axes>"
      ]
     },
     "metadata": {},
     "output_type": "display_data"
    }
   ],
   "source": [
    "plt.figure(figsize=(10, 10))\n",
    "sns.barplot(x='coefficients', y=coefficients.sort_values(by='abs', ascending=False).tail(10).index, data=coefficients.sort_values(by='abs', ascending=False).tail(10))\n",
    "plt.title('Top 10 Positive and Negative Words')\n",
    "plt.show()"
   ]
  },
  {
   "cell_type": "code",
   "execution_count": null,
   "id": "877c33fd",
   "metadata": {},
   "outputs": [],
   "source": [
    "        "
   ]
  }
 ],
 "metadata": {
  "kernelspec": {
   "display_name": "Python 3 (ipykernel)",
   "language": "python",
   "name": "python3"
  },
  "language_info": {
   "codemirror_mode": {
    "name": "ipython",
    "version": 3
   },
   "file_extension": ".py",
   "mimetype": "text/x-python",
   "name": "python",
   "nbconvert_exporter": "python",
   "pygments_lexer": "ipython3",
   "version": "3.9.13"
  }
 },
 "nbformat": 4,
 "nbformat_minor": 5
}
